{
 "cells": [
  {
   "cell_type": "markdown",
   "metadata": {},
   "source": [
    "# Download pretrained model from internet\n",
    "\n",
    "Provide another way to download the pretrained model from google drive directly without loading yolov5 source code"
   ]
  },
  {
   "cell_type": "code",
   "execution_count": 1,
   "metadata": {},
   "outputs": [],
   "source": [
    "import os\n",
    "import sys"
   ]
  },
  {
   "cell_type": "code",
   "execution_count": 2,
   "metadata": {},
   "outputs": [],
   "source": [
    "fp_common = os.path.abspath('../')\n",
    "fp_yolov5 = fp_common+ '/yolov5'"
   ]
  },
  {
   "cell_type": "markdown",
   "metadata": {},
   "source": [
    "# Download YoloV5 github source codes and related pretrained models (Optional)"
   ]
  },
  {
   "cell_type": "code",
   "execution_count": 3,
   "metadata": {},
   "outputs": [
    {
     "name": "stdout",
     "output_type": "stream",
     "text": [
      "Cloning into '/home/ec2-user/SageMaker/yolov5-on-sagemaker/yolov5'...\n",
      "remote: Enumerating objects: 4, done.\u001b[K\n",
      "remote: Counting objects: 100% (4/4), done.\u001b[K\n",
      "remote: Compressing objects: 100% (4/4), done.\u001b[K\n",
      "remote: Total 2064 (delta 0), reused 1 (delta 0), pack-reused 2060\u001b[K\n",
      "Receiving objects: 100% (2064/2064), 5.21 MiB | 47.20 MiB/s, done.\n",
      "Resolving deltas: 100% (1347/1347), done.\n"
     ]
    }
   ],
   "source": [
    "# Download YoloV5 github source codes\n",
    "!git clone https://github.com/ultralytics/yolov5 {fp_yolov5}"
   ]
  },
  {
   "cell_type": "code",
   "execution_count": 4,
   "metadata": {},
   "outputs": [
    {
     "data": {
      "text/plain": [
       "['',\n",
       " '/home/ec2-user/anaconda3/envs/pytorch_latest_p36/lib/python36.zip',\n",
       " '/home/ec2-user/anaconda3/envs/pytorch_latest_p36/lib/python3.6',\n",
       " '/home/ec2-user/anaconda3/envs/pytorch_latest_p36/lib/python3.6/lib-dynload',\n",
       " '/home/ec2-user/anaconda3/envs/pytorch_latest_p36/lib/python3.6/site-packages',\n",
       " '/home/ec2-user/anaconda3/envs/pytorch_latest_p36/lib/python3.6/site-packages/IPython/extensions',\n",
       " '/home/ec2-user/.ipython',\n",
       " '/home/ec2-user/SageMaker/yolov5-on-sagemaker/yolov5']"
      ]
     },
     "execution_count": 4,
     "metadata": {},
     "output_type": "execute_result"
    }
   ],
   "source": [
    "sys.path.append(fp_yolov5)\n",
    "sys.path"
   ]
  },
  {
   "cell_type": "code",
   "execution_count": 5,
   "metadata": {},
   "outputs": [
    {
     "name": "stdout",
     "output_type": "stream",
     "text": [
      "/home/ec2-user/SageMaker/yolov5-on-sagemaker/yolov5\n",
      "  % Total    % Received % Xferd  Average Speed   Time    Time     Time  Current\n",
      "                                 Dload  Upload   Total   Spent    Left  Speed\n",
      "100   279    0   279    0     0   3770      0 --:--:-- --:--:-- --:--:--  3720\n",
      "100   408    0   408    0     0    792      0 --:--:-- --:--:-- --:--:--   792\n",
      "  0     0    0     0    0     0      0      0 --:--:-- --:--:-- --:--:--     0\n",
      "  0     0    0     0    0     0      0      0 --:--:-- --:--:-- --:--:--     0\n",
      "100 14.4M    0 14.4M    0     0  13.2M      0 --:--:--  0:00:01 --:--:--  194M\n",
      "Downloading https://drive.google.com/uc?export=download&id=1R5T6rIyy3lLwgFXNms8whc-387H0tMQO as weights/yolov5s.pt... Done (3.1s)\n"
     ]
    }
   ],
   "source": [
    "%cd {fp_yolov5}\n",
    "!python -c \"from utils.google_utils import *; attempt_download('weights/yolov5s.pt');\""
   ]
  },
  {
   "cell_type": "code",
   "execution_count": 6,
   "metadata": {},
   "outputs": [
    {
     "name": "stdout",
     "output_type": "stream",
     "text": [
      "0-preparation\t   2-yolov5-sm-container  yolov5\r\n",
      "1-yolov5-tutorial  README.md\t\t  yolov5s.pt\r\n"
     ]
    }
   ],
   "source": [
    "!cp {fp_yolov5+'/weights/yolov5s.pt'} {fp_common}\n",
    "!ls {fp_common}"
   ]
  },
  {
   "cell_type": "markdown",
   "metadata": {},
   "source": [
    "# Add custom kernal into SageMaker jupyter notebook (Optional)\n",
    "\n",
    "This is optional. The cool thing is that you don't need to install the same packages again for each notebooks.\n",
    "\n",
    "Open a terminal and then:\n",
    "\n",
    "```\n",
    "bash\n",
    "conda create --clone pytorch_latest_p36 --name pytorch_yolo\n",
    "conda activate pytorch_yolo\n",
    "pip install tensorboard onnx torch torchvision --upgrade\n",
    "python -m ipykernel install --user --name=pytorch_yolo\n",
    "```\n",
    "\n",
    "After that, reload your jupyternotebook in the browser. You can see \"pytorch15_yolo\" in your drop down menu.\n",
    "\n",
    "If you want to remove kernal, use the following command:\n",
    "\n",
    "```\n",
    "jupyter kernelspec uninstall pytorch_yolo\n",
    "```\n",
    "\n",
    "### references\n",
    "\n",
    "* jupyter kernal [link](https://ipython.readthedocs.io/en/stable/install/kernel_install.html)\n",
    "* conda env list\n",
    "* conda env remove --name pytorch15_yolo"
   ]
  },
  {
   "cell_type": "markdown",
   "metadata": {},
   "source": [
    "## Download weights directly (Optional)"
   ]
  },
  {
   "cell_type": "code",
   "execution_count": null,
   "metadata": {},
   "outputs": [],
   "source": [
    "gfid_yolov5s = '1R5T6rIyy3lLwgFXNms8whc-387H0tMQO'\n",
    "fp_out = fp_common + '/yolov5s.pt'\n",
    "!wget --no-check-certificate 'https://docs.google.com/uc?export=download&id={gfid_yolov5s}' -O {fp_out}"
   ]
  }
 ],
 "metadata": {
  "kernelspec": {
   "display_name": "conda_pytorch_latest_p36",
   "language": "python",
   "name": "conda_pytorch_latest_p36"
  },
  "language_info": {
   "codemirror_mode": {
    "name": "ipython",
    "version": 3
   },
   "file_extension": ".py",
   "mimetype": "text/x-python",
   "name": "python",
   "nbconvert_exporter": "python",
   "pygments_lexer": "ipython3",
   "version": "3.6.10"
  }
 },
 "nbformat": 4,
 "nbformat_minor": 4
}
