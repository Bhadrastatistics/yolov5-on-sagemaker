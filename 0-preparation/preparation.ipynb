{
 "cells": [
  {
   "cell_type": "markdown",
   "metadata": {},
   "source": [
    "# Download pretrained model from internet\n",
    "\n",
    "Provide another way to download the pretrained model from google drive directly without loading yolov5 source code"
   ]
  },
  {
   "cell_type": "code",
   "execution_count": 1,
   "metadata": {},
   "outputs": [],
   "source": [
    "import os\n",
    "import sys"
   ]
  },
  {
   "cell_type": "code",
   "execution_count": 2,
   "metadata": {},
   "outputs": [],
   "source": [
    "fp_common = os.path.abspath('../')\n",
    "fp_yolov5 = fp_common+ '/yolov5'"
   ]
  },
  {
   "cell_type": "markdown",
   "metadata": {},
   "source": [
    "# Download YoloV5 github source codes and related pretrained models (Optional)"
   ]
  },
  {
   "cell_type": "code",
   "execution_count": 4,
   "metadata": {},
   "outputs": [],
   "source": [
    "!rm -rf {fp_yolov5}"
   ]
  },
  {
   "cell_type": "code",
   "execution_count": 5,
   "metadata": {},
   "outputs": [
    {
     "name": "stdout",
     "output_type": "stream",
     "text": [
      "Cloning into '/home/ec2-user/SageMaker/yolov5-on-sagemaker/yolov5'...\n",
      "remote: Enumerating objects: 153, done.\u001b[K\n",
      "remote: Counting objects: 100% (153/153), done.\u001b[K\n",
      "remote: Compressing objects: 100% (99/99), done.\u001b[K\n",
      "remote: Total 3188 (delta 110), reused 96 (delta 54), pack-reused 3035\u001b[K\n",
      "Receiving objects: 100% (3188/3188), 6.68 MiB | 40.26 MiB/s, done.\n",
      "Resolving deltas: 100% (2125/2125), done.\n"
     ]
    }
   ],
   "source": [
    "# Download YoloV5 github source codes\n",
    "!git clone https://github.com/ultralytics/yolov5 {fp_yolov5}"
   ]
  },
  {
   "cell_type": "code",
   "execution_count": 6,
   "metadata": {},
   "outputs": [
    {
     "data": {
      "text/plain": [
       "['',\n",
       " '/home/ec2-user/anaconda3/envs/pytorch_latest_p36/lib/python36.zip',\n",
       " '/home/ec2-user/anaconda3/envs/pytorch_latest_p36/lib/python3.6',\n",
       " '/home/ec2-user/anaconda3/envs/pytorch_latest_p36/lib/python3.6/lib-dynload',\n",
       " '/home/ec2-user/anaconda3/envs/pytorch_latest_p36/lib/python3.6/site-packages',\n",
       " '/home/ec2-user/anaconda3/envs/pytorch_latest_p36/lib/python3.6/site-packages/IPython/extensions',\n",
       " '/home/ec2-user/.ipython',\n",
       " '/home/ec2-user/SageMaker/yolov5-on-sagemaker/yolov5']"
      ]
     },
     "execution_count": 6,
     "metadata": {},
     "output_type": "execute_result"
    }
   ],
   "source": [
    "sys.path.append(fp_yolov5)\n",
    "sys.path"
   ]
  },
  {
   "cell_type": "markdown",
   "metadata": {},
   "source": [
    "#### Make sure the path and codes can run."
   ]
  },
  {
   "cell_type": "code",
   "execution_count": 7,
   "metadata": {},
   "outputs": [
    {
     "name": "stdout",
     "output_type": "stream",
     "text": [
      "/home/ec2-user/SageMaker/yolov5-on-sagemaker/yolov5\n",
      "Downloading https://github.com/ultralytics/yolov5/releases/download/v3.1/yolov5s.pt to weights/yolov5s.pt...\n",
      "100%|██████████████████████████████████████| 14.5M/14.5M [00:00<00:00, 15.8MB/s]\n",
      "\n"
     ]
    }
   ],
   "source": [
    "%cd {fp_yolov5}\n",
    "!python -c \"from utils.google_utils import *; attempt_download('weights/yolov5s.pt');\""
   ]
  },
  {
   "cell_type": "code",
   "execution_count": 8,
   "metadata": {},
   "outputs": [
    {
     "name": "stdout",
     "output_type": "stream",
     "text": [
      "0-preparation\t   2-yolov5-sm-container  coco128    yolov5\r\n",
      "1-yolov5-tutorial  3-quiz\t\t  README.md  yolov5s.pt\r\n"
     ]
    }
   ],
   "source": [
    "!cp {fp_yolov5+'/weights/yolov5s.pt'} {fp_common}\n",
    "!ls {fp_common}"
   ]
  },
  {
   "cell_type": "markdown",
   "metadata": {},
   "source": [
    "# Add custom kernal into SageMaker jupyter notebook (Optional)\n",
    "\n",
    "This is optional. The cool thing is that you don't need to install the same packages again for each notebooks.\n",
    "\n",
    "Open a terminal and then:\n",
    "\n",
    "```\n",
    "bash\n",
    "conda create --clone pytorch_latest_p36 --name pytorch_yolo\n",
    "conda activate pytorch_yolo\n",
    "pip install tensorboard onnx torch torchvision --upgrade\n",
    "python -m ipykernel install --user --name=pytorch_yolo\n",
    "```\n",
    "\n",
    "After that, reload your jupyternotebook in the browser. You can see \"pytorch15_yolo\" in your drop down menu.\n",
    "\n",
    "If you want to remove kernal, use the following command:\n",
    "\n",
    "```\n",
    "jupyter kernelspec uninstall pytorch_yolo\n",
    "```\n",
    "\n",
    "### references\n",
    "\n",
    "* jupyter kernal [link](https://ipython.readthedocs.io/en/stable/install/kernel_install.html)\n",
    "* conda env list\n",
    "* conda env remove --name pytorch15_yolo"
   ]
  },
  {
   "cell_type": "markdown",
   "metadata": {},
   "source": [
    "## Download weights directly (Optional)"
   ]
  },
  {
   "cell_type": "code",
   "execution_count": null,
   "metadata": {},
   "outputs": [],
   "source": [
    "gfid_yolov5s = '1R5T6rIyy3lLwgFXNms8whc-387H0tMQO'\n",
    "fp_out = fp_common + '/yolov5s.pt'\n",
    "!wget --no-check-certificate 'https://docs.google.com/uc?export=download&id={gfid_yolov5s}' -O {fp_out}"
   ]
  }
 ],
 "metadata": {
  "kernelspec": {
   "display_name": "conda_pytorch_latest_p36",
   "language": "python",
   "name": "conda_pytorch_latest_p36"
  },
  "language_info": {
   "codemirror_mode": {
    "name": "ipython",
    "version": 3
   },
   "file_extension": ".py",
   "mimetype": "text/x-python",
   "name": "python",
   "nbconvert_exporter": "python",
   "pygments_lexer": "ipython3",
   "version": "3.6.10"
  }
 },
 "nbformat": 4,
 "nbformat_minor": 4
}
